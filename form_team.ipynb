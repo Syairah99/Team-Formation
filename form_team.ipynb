{
 "cells": [
  {
   "cell_type": "code",
   "execution_count": 1,
   "metadata": {},
   "outputs": [
    {
     "name": "stdout",
     "output_type": "stream",
     "text": [
      "['Syairah', 'Hanim']\n"
     ]
    }
   ],
   "source": [
    "def form_team(players) :\n",
    "    team = []\n",
    "    team.append(players[0])\n",
    "    team.append(players[2])\n",
    "    return team\n",
    "\n",
    "players = [\"Anis\",\"Ida\",\"Hanim\",\"Sarah\",\"Najwa\"]\n",
    "team = form_team(players)\n",
    "team[0] = \"Syairah\"\n",
    "print(team)"
   ]
  }
 ],
 "metadata": {
  "kernelspec": {
   "display_name": "base",
   "language": "python",
   "name": "python3"
  },
  "language_info": {
   "codemirror_mode": {
    "name": "ipython",
    "version": 3
   },
   "file_extension": ".py",
   "mimetype": "text/x-python",
   "name": "python",
   "nbconvert_exporter": "python",
   "pygments_lexer": "ipython3",
   "version": "3.9.13"
  },
  "orig_nbformat": 4,
  "vscode": {
   "interpreter": {
    "hash": "ca8ba4863bb9a55bc0fb1c66d7752777582cbc098f0764f347d1f8cde5fb9cb7"
   }
  }
 },
 "nbformat": 4,
 "nbformat_minor": 2
}
